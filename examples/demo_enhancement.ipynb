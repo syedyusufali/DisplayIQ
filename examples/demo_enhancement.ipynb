from displayiq.enhancement import enhance_contrast
from displayiq.evaluation import compute_psnr, compute_ssim
import cv2
import matplotlib.pyplot as plt

img = cv2.imread('../data/sample.jpg')
enhanced = enhance_contrast(img)

psnr_val = compute_psnr(img, enhanced)
ssim_val = compute_ssim(img, enhanced)

plt.subplot(1, 2, 1)
plt.title("Original")
plt.imshow(cv2.cvtColor(img, cv2.COLOR_BGR2RGB))

plt.subplot(1, 2, 2)
plt.title(f"Enhanced\nPSNR: {psnr_val:.2f}, SSIM: {ssim_val:.2f}")
plt.imshow(cv2.cvtColor(enhanced, cv2.COLOR_BGR2RGB))
plt.show()